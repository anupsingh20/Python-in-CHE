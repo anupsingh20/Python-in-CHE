{
 "cells": [
  {
   "cell_type": "markdown",
   "id": "bb4247bc",
   "metadata": {},
   "source": [
    "# **ASSIGNMENT 3**"
   ]
  },
  {
   "cell_type": "markdown",
   "id": "00522981",
   "metadata": {},
   "source": [
    "Energy balance:  Accumulation =  In - Out + Generation\n",
    "\n",
    "- For inner Cylinder\n",
    "$ \\frac{dT_1}{dt} = \\frac{m_1*C_{p1}*(T_1(i-1) - T_1(i)) + U*2\\pi r_1*dx*(T_2(i) - T_1(i))}{\\rho_{1}*C_{p1}*A_1*dx} $\n",
    "\n",
    "- For Outer cylinder\n",
    "$ \\frac{dT_2}{dt} = \\frac{m_2*C_{p2}*(T_2(i-1) - T_2(i)) + U*2\\pi r_1*dx*(T_2(i) - T_1(i))}{\\rho_{2}*C_{p2}*A_2*dx} $"
   ]
  },
  {
   "cell_type": "code",
   "execution_count": 1,
   "id": "a3bcdea8",
   "metadata": {},
   "outputs": [],
   "source": [
    "import numpy as np\n",
    "import matplotlib.pyplot as plt\n",
    "import matplotlib.animation as animation\n",
    "from matplotlib.animation import FuncAnimation"
   ]
  },
  {
   "cell_type": "code",
   "execution_count": 2,
   "id": "63d2f2af",
   "metadata": {},
   "outputs": [],
   "source": [
    "l = 60 #length of pipe\n",
    "r1 = 0.1 # inner radius\n",
    "r2 = 0.15 # outer radius\n",
    "n = 100 # number of internal points (take n = 500 also)\n",
    "pi = 3.14 \n",
    "a1 = pi*np.square(r1) # area of cylinder 1\n",
    "a2 = pi*(np.square(r2) - np.square(r1)) # area of cylinder 2\n",
    "m1 = 3 # mass flow rate (fluid 1)\n",
    "cp1 = 4180 # heat capacity of water (fluid 1)\n",
    "d1 = 1000 # density of water (fluid 2)\n",
    "m2 = 5 # mass flow rate (fluid 2)\n",
    "cp2 = 4180 # heat capacity of water (fluid 2) \n",
    "d2 = 1000 # density of water (fluid 2)\n",
    "\n",
    "dx = l/n\n",
    "t_final = 1000\n",
    "dt = 1 \n",
    " \n",
    "t0 = 300 # initial temperature of fluid\n",
    "t1i = 400 # inlet temperature of fluid 1\n",
    "t2i = 800 # inlet temperature of fluid 2\n",
    "U = 340 # overall heat transfer coefficient\n",
    "\n",
    "x = np.linspace(dx/2,l-dx/2,n) # take evenly spaced numbers array from dx/2 to l-dx/2 of size n\n",
    "T1 = np.ones(n)*t0 # create array of size n with all value = t0\n",
    "T2 = np.ones(n)*t0\n",
    "dT1_dt = np.zeros(n) # create array of zeros of size n\n",
    "dT2_dt = np.zeros(n)\n",
    "Tin = np.zeros((t_final,n))\n",
    "Tout = np.zeros((t_final,n))\n",
    "t = np.arange(0,t_final,dt)\n",
    "\n"
   ]
  },
  {
   "cell_type": "code",
   "execution_count": 3,
   "id": "8430f8ae",
   "metadata": {},
   "outputs": [],
   "source": [
    "for i in range(1,len(t)):\n",
    "    dT1_dt[1:n] = ( m1*cp1*(T1[0:n-1]-T1[1:n])+ U*2*pi*r1*dx*(T2[1:n]-T1[1:n]) ) / ( d1*cp1*dx*a1 )\n",
    "    dT1_dt[0] = ( m1*cp1*(t1i-T1[0])+ U*2*pi*r1*dx*(T2[0]-T1[0]) ) / ( d1*cp1*dx*a1 )\n",
    "    dT2_dt[1:n] = ( m2*cp2*(T2[0:n-1]-T2[1:n])- U*2*pi*r1*dx*(T2[1:n]-T1[1:n]) ) / ( d2*cp2*dx*a2 ) \n",
    "    dT2_dt[0] = ( m2*cp2*(t2i-T2[0])- U*2*pi*r1*dx*(T2[0]-T1[0]) ) / ( d2*cp2*dx*a2 )\n",
    "    T1 = T1+dT1_dt*dt\n",
    "    T2 = T2+dT2_dt*dt\n",
    "    Tin[i,:] = T1\n",
    "    Tout[i,:] = T2"
   ]
  },
  {
   "cell_type": "code",
   "execution_count": 4,
   "id": "ff00e8b7",
   "metadata": {},
   "outputs": [],
   "source": [
    "def plotheatmap(Tin,Tout):\n",
    "    plt.clf()\n",
    "    plt.plot(x,Tin,label=\"Inner Temperature\")\n",
    "    plt.plot(x,Tout,label=\"Outer Tempearture\")\n",
    "    plt.xlabel('Distance(m)') \n",
    "    plt.ylabel('Temperature(k)')\n",
    "    plt.axis([0,l,0,900])\n",
    "    return plt"
   ]
  },
  {
   "cell_type": "code",
   "execution_count": 5,
   "id": "eeea9419",
   "metadata": {},
   "outputs": [
    {
     "name": "stderr",
     "output_type": "stream",
     "text": [
      "MovieWriter ffmpeg unavailable; using Pillow instead.\n"
     ]
    },
    {
     "data": {
      "image/png": "[encoded data removed]",
      "text/plain": [
       "<Figure size 432x288 with 1 Axes>"
      ]
     },
     "metadata": {
      "needs_background": "light"
     },
     "output_type": "display_data"
    }
   ],
   "source": [
    "def animate(j):\n",
    "    plotheatmap(Tin[j,:],Tout[j,:])\n",
    "anim = animation.FuncAnimation(plt.figure(), animate, interval=dt, frames=t_final, repeat=False)\n",
    "anim.save(\"answer.gif\")\n"
   ]
  },
  {
   "cell_type": "code",
   "execution_count": null,
   "id": "c113aa58",
   "metadata": {},
   "outputs": [],
   "source": []
  }
 ],
 "metadata": {
  "interpreter": {
   "hash": "52634da84371cba311ea128a5ea7cdc41ff074b781779e754b270ff9f8153cee"
  },
  "kernelspec": {
   "display_name": "Python 3.10.2 64-bit",
   "language": "python",
   "name": "python3"
  },
  "language_info": {
   "codemirror_mode": {
    "name": "ipython",
    "version": 3
   },
   "file_extension": ".py",
   "mimetype": "text/x-python",
   "name": "python",
   "nbconvert_exporter": "python",
   "pygments_lexer": "ipython3",
   "version": "3.10.2"
  }
 },
 "nbformat": 4,
 "nbformat_minor": 5
}
