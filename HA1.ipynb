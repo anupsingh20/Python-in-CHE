{
 "cells": [
  {
   "cell_type": "markdown",
   "metadata": {},
   "source": [
    " ####  **Name : Anup Singh**  <p dir=rtl> **Roll no. : 200166** </p> "
   ]
  },
  {
   "cell_type": "markdown",
   "metadata": {},
   "source": [
    "# <u>**Stokes Law**</u>\n",
    "$$\n",
    "    \\frac{dv}{dt} = \\frac{(\\rho_{s}-\\rho_{l})}{\\rho_{s}}g - \\frac{9}{2}\\frac{\\eta v}{\\rho_{s} r^2}\n",
    "$$ \n",
    "\\\n",
    "\\\n",
    "*Terminal Velocity :* \n",
    "$$\n",
    "    v_{t} = \\frac{2}{9}r^2g(\\frac{\\rho_{s}-\\rho_{l}}{\\eta})"
   ]
  },
  {
   "cell_type": "markdown",
   "metadata": {},
   "source": [
    "## **Procedure**\n",
    "1. Take density of object, density of liquid, viscosity coeffcient and radius of object from user as input.\n",
    "2. Take $ \\Delta $ t as 0.01\n",
    "3. Also the tolerance is $ 10^{-9} $\n",
    "4. first take $ v_{prev} $ as 0 and error as 1\n",
    "5. Then keep iteration till error>tol:\n",
    "    - Calculate $ \\frac{dv}{dt} = \\frac{(\\rho_{s}-\\rho_{l})}{\\rho_{s}}g - \\frac{9}{2}\\frac{\\eta v}{\\rho_{s} r^2} $\n",
    "    \n",
    "    - then update $ v_{next} = v_{prev} +  \\frac{dv}{dt} * \\Delta t $\n",
    "\n",
    "    - update error to : $ (v_{next} - v_{prev}) / v_{next} $ \n",
    "    \n",
    "    - Also now $ v_{prev} = v_{next} $ and return to the loop\n",
    "\n",
    "6. After the loop the final velocity is $ v_{next} $ (This is the estimated terminal velocity)\n",
    "7. Calculate terminal velocity from the formula $ v_{t} = \\frac{2}{9}r^2g(\\frac{\\rho_{s}-\\rho_{l}}{\\eta}) $\n",
    "8. The percentage error would be : $ [( v_{t} - v_{next} ) / v_{t} ]*100 $\n"
   ]
  },
  {
   "cell_type": "code",
   "execution_count": 1,
   "metadata": {},
   "outputs": [
    {
     "name": "stdout",
     "output_type": "stream",
     "text": [
      "The velocity is:  1.1132408676660517\n",
      "The terminal velocity is:  1.1132410365637204\n",
      "The error is:  1.5171707042086206e-05 %\n"
     ]
    }
   ],
   "source": [
    "ps = float(input(\"Enter the density of object: \"))\n",
    "pl = float(input(\"Enter the density of liquid: \"))\n",
    "n = float(input(\"Enter the viscosity coefficient: \"))\n",
    "r = float(input(\"Enter the radius of object: \"))\n",
    "g = 9.8\n",
    "delt = 0.01\n",
    "tol = 1e-9\n",
    "error = 1\n",
    "v_prev = 0\n",
    "# v = []\n",
    "while (error > tol) :\n",
    "    dv_dt = ((ps-pl)/ps)*g - (9/2)*((n*v_prev)/(ps*r*r))\n",
    "    v_next = v_prev + (dv_dt * delt)\n",
    "    # v.append(v_next)\n",
    "    error = (v_next - v_prev)/v_next\n",
    "    v_prev = v_next\n",
    "\n",
    "#print(\"List of velocity at each iterations\",v)\n",
    "\n",
    "print(\"The velocity is: \",v_next)\n",
    "\n",
    "v_t = (2*r*r*g*(ps-pl))/(9*n)\n",
    "print(\"The terminal velocity is: \",v_t)\n",
    "\n",
    "err = ((v_t - v_next)/v_t)*100\n",
    "print(\"The error is: \",err,\"%\")\n"
   ]
  },
  {
   "cell_type": "markdown",
   "metadata": {},
   "source": [
    "## **Inference**\n",
    "The velocity calculated from differential equation converges to terminal velcocity at some tolerance level"
   ]
  },
  {
   "cell_type": "code",
   "execution_count": null,
   "metadata": {},
   "outputs": [],
   "source": [
    "#  1.0016 n"
   ]
  }
 ],
 "metadata": {
  "interpreter": {
   "hash": "52634da84371cba311ea128a5ea7cdc41ff074b781779e754b270ff9f8153cee"
  },
  "kernelspec": {
   "display_name": "Python 3.10.2 64-bit",
   "language": "python",
   "name": "python3"
  },
  "language_info": {
   "codemirror_mode": {
    "name": "ipython",
    "version": 3
   },
   "file_extension": ".py",
   "mimetype": "text/x-python",
   "name": "python",
   "nbconvert_exporter": "python",
   "pygments_lexer": "ipython3",
   "version": "3.10.2"
  },
  "orig_nbformat": 4
 },
 "nbformat": 4,
 "nbformat_minor": 2
}
